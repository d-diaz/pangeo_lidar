{
 "cells": [
  {
   "cell_type": "code",
   "execution_count": 1,
   "metadata": {},
   "outputs": [],
   "source": [
    "import geopandas as gpd\n",
    "import pandas as pd\n",
    "%matplotlib inline"
   ]
  },
  {
   "cell_type": "code",
   "execution_count": 2,
   "metadata": {},
   "outputs": [],
   "source": [
    "TILES_SHP = '/storage/lidar/clackamol_2013/processed/vectors/tiles.shp'\n",
    "FOOTPRINT_SHP = '/storage/lidar/clackamol_2013/processed/vectors/footprint.shp'"
   ]
  },
  {
   "cell_type": "code",
   "execution_count": 3,
   "metadata": {},
   "outputs": [],
   "source": [
    "gdf = gpd.read_file(TILES_SHP)"
   ]
  },
  {
   "cell_type": "code",
   "execution_count": 4,
   "metadata": {},
   "outputs": [],
   "source": [
    "gdf['mil_points'] = gdf['num_points'] / 1000000."
   ]
  },
  {
   "cell_type": "code",
   "execution_count": 5,
   "metadata": {},
   "outputs": [
    {
     "name": "stdout",
     "output_type": "stream",
     "text": [
      "<class 'geopandas.geodataframe.GeoDataFrame'>\n",
      "RangeIndex: 2057 entries, 0 to 2056\n",
      "Data columns (total 13 columns):\n",
      "file_name     2057 non-null object\n",
      "version       2057 non-null object\n",
      "num_points    2057 non-null int64\n",
      "point_type    2057 non-null int64\n",
      "point_size    2057 non-null int64\n",
      "min_x         2057 non-null float64\n",
      "max_x         2057 non-null float64\n",
      "min_y         2057 non-null float64\n",
      "max_y         2057 non-null float64\n",
      "min_z         2057 non-null float64\n",
      "max_z         2057 non-null float64\n",
      "geometry      2057 non-null object\n",
      "mil_points    2057 non-null float64\n",
      "dtypes: float64(7), int64(3), object(3)\n",
      "memory usage: 209.0+ KB\n"
     ]
    }
   ],
   "source": [
    "gdf.info()"
   ]
  },
  {
   "cell_type": "code",
   "execution_count": 6,
   "metadata": {},
   "outputs": [],
   "source": [
    "buffered = gdf.drop(['file_name', 'point_size', 'point_type', 'num_points'], axis=1)\n",
    "buffered.geometry = gdf.buffer(0.01) # buffer by 1cm"
   ]
  },
  {
   "cell_type": "code",
   "execution_count": 7,
   "metadata": {},
   "outputs": [],
   "source": [
    "try:\n",
    "    union = gpd.GeoDataFrame(geometry=list(buffered.unary_union), crs=buffered.crs)\n",
    "except TypeError: # line above will fail if there is only one polygon for the footprint\n",
    "    union = gpd.GeoDataFrame(geometry=[buffered.unary_union], crs=buffered.crs)\n",
    "    \n",
    "union['footprint_id'] = union.index + 1"
   ]
  },
  {
   "cell_type": "code",
   "execution_count": 8,
   "metadata": {},
   "outputs": [],
   "source": [
    "buffered = gpd.tools.sjoin(buffered, union, how='left').drop('index_right', axis=1)"
   ]
  },
  {
   "cell_type": "code",
   "execution_count": 9,
   "metadata": {},
   "outputs": [],
   "source": [
    "aggfuncs={'mil_points':'sum', \n",
    "          'version':'first', \n",
    "          'min_x':'min',\n",
    "          'min_y':'min',\n",
    "          'min_z':'min',\n",
    "          'max_x':'max',\n",
    "          'max_y':'max',\n",
    "          'max_z':'max'\n",
    "         }"
   ]
  },
  {
   "cell_type": "code",
   "execution_count": 10,
   "metadata": {},
   "outputs": [],
   "source": [
    "dissolved = buffered.dissolve(by='footprint_id', aggfunc=aggfuncs)"
   ]
  },
  {
   "cell_type": "code",
   "execution_count": 11,
   "metadata": {},
   "outputs": [
    {
     "data": {
      "text/html": [
       "<div>\n",
       "<style scoped>\n",
       "    .dataframe tbody tr th:only-of-type {\n",
       "        vertical-align: middle;\n",
       "    }\n",
       "\n",
       "    .dataframe tbody tr th {\n",
       "        vertical-align: top;\n",
       "    }\n",
       "\n",
       "    .dataframe thead th {\n",
       "        text-align: right;\n",
       "    }\n",
       "</style>\n",
       "<table border=\"1\" class=\"dataframe\">\n",
       "  <thead>\n",
       "    <tr style=\"text-align: right;\">\n",
       "      <th></th>\n",
       "      <th>geometry</th>\n",
       "      <th>mil_points</th>\n",
       "      <th>version</th>\n",
       "      <th>min_x</th>\n",
       "      <th>min_y</th>\n",
       "      <th>min_z</th>\n",
       "      <th>max_x</th>\n",
       "      <th>max_y</th>\n",
       "      <th>max_z</th>\n",
       "    </tr>\n",
       "    <tr>\n",
       "      <th>footprint_id</th>\n",
       "      <th></th>\n",
       "      <th></th>\n",
       "      <th></th>\n",
       "      <th></th>\n",
       "      <th></th>\n",
       "      <th></th>\n",
       "      <th></th>\n",
       "      <th></th>\n",
       "      <th></th>\n",
       "    </tr>\n",
       "  </thead>\n",
       "  <tbody>\n",
       "    <tr>\n",
       "      <th>1</th>\n",
       "      <td>POLYGON ((552999.99 4968086.9, 552999.99 49684...</td>\n",
       "      <td>19603.208297</td>\n",
       "      <td>LAS 1.2</td>\n",
       "      <td>507899.54</td>\n",
       "      <td>4960911.15</td>\n",
       "      <td>45.11</td>\n",
       "      <td>600335.49</td>\n",
       "      <td>5024805.63</td>\n",
       "      <td>1551.06</td>\n",
       "    </tr>\n",
       "  </tbody>\n",
       "</table>\n",
       "</div>"
      ],
      "text/plain": [
       "                                                       geometry    mil_points  \\\n",
       "footprint_id                                                                    \n",
       "1             POLYGON ((552999.99 4968086.9, 552999.99 49684...  19603.208297   \n",
       "\n",
       "              version      min_x       min_y  min_z      max_x       max_y  \\\n",
       "footprint_id                                                                 \n",
       "1             LAS 1.2  507899.54  4960911.15  45.11  600335.49  5024805.63   \n",
       "\n",
       "                max_z  \n",
       "footprint_id           \n",
       "1             1551.06  "
      ]
     },
     "execution_count": 11,
     "metadata": {},
     "output_type": "execute_result"
    }
   ],
   "source": [
    "dissolved.head()"
   ]
  },
  {
   "cell_type": "code",
   "execution_count": 12,
   "metadata": {},
   "outputs": [],
   "source": [
    "dissolved.to_file(FOOTPRINT_SHP)"
   ]
  }
 ],
 "metadata": {
  "kernelspec": {
   "display_name": "Python [conda env:pyFIRS]",
   "language": "python",
   "name": "conda-env-pyFIRS-py"
  },
  "language_info": {
   "codemirror_mode": {
    "name": "ipython",
    "version": 3
   },
   "file_extension": ".py",
   "mimetype": "text/x-python",
   "name": "python",
   "nbconvert_exporter": "python",
   "pygments_lexer": "ipython3",
   "version": "3.6.6"
  }
 },
 "nbformat": 4,
 "nbformat_minor": 2
}
